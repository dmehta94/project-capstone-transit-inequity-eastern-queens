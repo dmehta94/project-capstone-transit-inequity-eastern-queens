{
 "cells": [
  {
   "cell_type": "code",
   "execution_count": 1,
   "id": "4bba8388-20bd-4ec2-b93f-10770e287b0e",
   "metadata": {},
   "outputs": [],
   "source": [
    "import os\n",
    "import requests"
   ]
  },
  {
   "cell_type": "code",
   "execution_count": 2,
   "id": "66746974-9ada-457c-8ed7-79d5d20bcfb4",
   "metadata": {},
   "outputs": [
    {
     "ename": "ValueError",
     "evalue": "API Key not found! Make sure MTA_API_KEY is set as an environment variable.",
     "output_type": "error",
     "traceback": [
      "\u001b[1;31m---------------------------------------------------------------------------\u001b[0m",
      "\u001b[1;31mValueError\u001b[0m                                Traceback (most recent call last)",
      "Cell \u001b[1;32mIn[2], line 5\u001b[0m\n\u001b[0;32m      2\u001b[0m api_key \u001b[38;5;241m=\u001b[39m os\u001b[38;5;241m.\u001b[39mgetenv(\u001b[38;5;124m'\u001b[39m\u001b[38;5;124mMTA_API_KEY\u001b[39m\u001b[38;5;124m'\u001b[39m)\n\u001b[0;32m      4\u001b[0m \u001b[38;5;28;01mif\u001b[39;00m \u001b[38;5;129;01mnot\u001b[39;00m api_key:\n\u001b[1;32m----> 5\u001b[0m     \u001b[38;5;28;01mraise\u001b[39;00m \u001b[38;5;167;01mValueError\u001b[39;00m(\u001b[38;5;124m'\u001b[39m\u001b[38;5;124mAPI Key not found! Make sure MTA_API_KEY is set as an environment variable.\u001b[39m\u001b[38;5;124m'\u001b[39m)\n\u001b[0;32m      7\u001b[0m \u001b[38;5;66;03m# Define endpoint and parameters\u001b[39;00m\n\u001b[0;32m      8\u001b[0m endpoint \u001b[38;5;241m=\u001b[39m \u001b[38;5;124m'\u001b[39m\u001b[38;5;124mhttps://bustime.mta.info/api/where/stops-for-location.json\u001b[39m\u001b[38;5;124m'\u001b[39m\n",
      "\u001b[1;31mValueError\u001b[0m: API Key not found! Make sure MTA_API_KEY is set as an environment variable."
     ]
    }
   ],
   "source": [
    "# Retrieve API key from environment variables\n",
    "api_key = os.getenv('MTA_API_KEY')\n",
    "\n",
    "if not api_key:\n",
    "    raise ValueError('API Key not found! Make sure MTA_API_KEY is set as an environment variable.')\n",
    "\n",
    "# Define endpoint and parameters\n",
    "endpoint = 'https://bustime.mta.info/api/where/stops-for-location.json'\n",
    "params = {\n",
    "    'key': api_key,\n",
    "    'lat': 40.7128,  # Latitude for NYC\n",
    "    'lon': -74.0060, # Longitude for NYC\n",
    "    'radius': 500    # Radius in meters\n",
    "}\n",
    "\n",
    "# Make the API request\n",
    "response = requests.get(endpoint, params=params)\n",
    "data = response.json()\n",
    "\n",
    "# Display the stops\n",
    "for stop in data['data']['stops']:\n",
    "    print(f\"Stop Name: {stop['name']}, Latitude: {stop['lat']}, Longitude: {stop['lon']}\")"
   ]
  },
  {
   "cell_type": "code",
   "execution_count": 3,
   "id": "640b2ec6-9d0a-4aca-afde-ae163bcdf002",
   "metadata": {},
   "outputs": [
    {
     "ename": "ValueError",
     "evalue": "API Key not found! Make sure MTA_API_KEY is set as an environment variable.",
     "output_type": "error",
     "traceback": [
      "\u001b[1;31m---------------------------------------------------------------------------\u001b[0m",
      "\u001b[1;31mValueError\u001b[0m                                Traceback (most recent call last)",
      "Cell \u001b[1;32mIn[3], line 5\u001b[0m\n\u001b[0;32m      2\u001b[0m api_key \u001b[38;5;241m=\u001b[39m os\u001b[38;5;241m.\u001b[39mgetenv(\u001b[38;5;124m'\u001b[39m\u001b[38;5;124mMTA_API_KEY\u001b[39m\u001b[38;5;124m'\u001b[39m)\n\u001b[0;32m      4\u001b[0m \u001b[38;5;28;01mif\u001b[39;00m \u001b[38;5;129;01mnot\u001b[39;00m api_key:\n\u001b[1;32m----> 5\u001b[0m     \u001b[38;5;28;01mraise\u001b[39;00m \u001b[38;5;167;01mValueError\u001b[39;00m(\u001b[38;5;124m'\u001b[39m\u001b[38;5;124mAPI Key not found! Make sure MTA_API_KEY is set as an environment variable.\u001b[39m\u001b[38;5;124m'\u001b[39m)\n\u001b[0;32m      7\u001b[0m \u001b[38;5;66;03m# Define endpoint and parameters\u001b[39;00m\n\u001b[0;32m      8\u001b[0m endpoint \u001b[38;5;241m=\u001b[39m \u001b[38;5;124m'\u001b[39m\u001b[38;5;124mhttps://bustime.mta.info/api/where/stops-for-location.json\u001b[39m\u001b[38;5;124m'\u001b[39m\n",
      "\u001b[1;31mValueError\u001b[0m: API Key not found! Make sure MTA_API_KEY is set as an environment variable."
     ]
    }
   ],
   "source": [
    "# Retrieve API key from environment variables\n",
    "api_key = os.getenv('MTA_API_KEY')\n",
    "\n",
    "if not api_key:\n",
    "    raise ValueError('API Key not found! Make sure MTA_API_KEY is set as an environment variable.')\n",
    "\n",
    "# Define endpoint and parameters\n",
    "endpoint = 'https://bustime.mta.info/api/where/stops-for-location.json'\n",
    "params = {\n",
    "    'key': api_key,\n",
    "    'lat': 40.7128,  # Latitude for NYC\n",
    "    'lon': -74.0060, # Longitude for NYC\n",
    "    'radius': 500    # Radius in meters\n",
    "}\n",
    "\n",
    "# Make the API request\n",
    "response = requests.get(endpoint, params=params)\n",
    "data = response.json()\n",
    "\n",
    "# Display the stops\n",
    "for stop in data['data']['stops']:\n",
    "    print(f\"Stop Name: {stop['name']}, Latitude: {stop['lat']}, Longitude: {stop['lon']}\")"
   ]
  }
 ],
 "metadata": {
  "kernelspec": {
   "display_name": "Python 3 (ipykernel)",
   "language": "python",
   "name": "python3"
  },
  "language_info": {
   "codemirror_mode": {
    "name": "ipython",
    "version": 3
   },
   "file_extension": ".py",
   "mimetype": "text/x-python",
   "name": "python",
   "nbconvert_exporter": "python",
   "pygments_lexer": "ipython3",
   "version": "3.11.1"
  }
 },
 "nbformat": 4,
 "nbformat_minor": 5
}
