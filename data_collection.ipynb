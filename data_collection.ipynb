{
 "cells": [
  {
   "cell_type": "code",
   "execution_count": 1,
   "id": "4bba8388-20bd-4ec2-b93f-10770e287b0e",
   "metadata": {},
   "outputs": [],
   "source": [
    "import os\n",
    "import requests\n",
    "\n",
    "import pandas as pd"
   ]
  },
  {
   "cell_type": "code",
   "execution_count": 10,
   "id": "66746974-9ada-457c-8ed7-79d5d20bcfb4",
   "metadata": {},
   "outputs": [
    {
     "name": "stdout",
     "output_type": "stream",
     "text": [
      "Status Code: 200\n"
     ]
    }
   ],
   "source": [
    "# API Key and Endpoint\n",
    "api_key = \"YOUR_API_KEY\"\n",
    "endpoint = \"https://bustime.mta.info/api/where/stops-for-location.json\"\n",
    "params = {\n",
    "    \"key\": api_key,\n",
    "    \"lat\": 40.715,  # Central Eastern Queens\n",
    "    \"lon\": -73.825,\n",
    "    \"radius\": 1000\n",
    "}\n",
    "\n",
    "# Fetch Data\n",
    "response = requests.get(endpoint, params=params)\n",
    "data = response.json()\n",
    "\n",
    "print(f\"Status Code: {response.status_code}\")"
   ]
  },
  {
   "cell_type": "code",
   "execution_count": 11,
   "id": "75d3466f-431e-4423-b2b4-d8fc8f911cd5",
   "metadata": {},
   "outputs": [
    {
     "name": "stdout",
     "output_type": "stream",
     "text": [
      "null\n"
     ]
    }
   ],
   "source": [
    "print(response.text)"
   ]
  },
  {
   "cell_type": "code",
   "execution_count": null,
   "id": "99c13dab-2565-45a7-bbb3-29457e32b777",
   "metadata": {},
   "outputs": [],
   "source": [
    "# Structure Data\n",
    "stops = [\n",
    "    {\n",
    "        \"Stop ID\": stop['id'],\n",
    "        \"Name\": stop['name'],\n",
    "        \"Latitude\": stop['lat'],\n",
    "        \"Longitude\": stop['lon']\n",
    "    }\n",
    "    for stop in data['data']['stops']\n",
    "]\n",
    "\n",
    "# Save to CSV\n",
    "stops_df = pd.DataFrame(stops)\n",
    "stops_df.to_csv(\"eastern_queens_stops.csv\", index=False)"
   ]
  },
  {
   "cell_type": "code",
   "execution_count": 4,
   "id": "640b2ec6-9d0a-4aca-afde-ae163bcdf002",
   "metadata": {},
   "outputs": [
    {
     "name": "stdout",
     "output_type": "stream",
     "text": [
      "Bus ID: MTA NYCT_9429, Location: {'Longitude': -73.941852, 'Latitude': 40.838011}\n",
      "Bus ID: MTA NYCT_9827, Location: {'Longitude': -73.965598, 'Latitude': 40.809047}\n",
      "Bus ID: MTA NYCT_9889, Location: {'Longitude': -73.948459, 'Latitude': 40.828988}\n",
      "Bus ID: MTA NYCT_9905, Location: {'Longitude': -73.94856, 'Latitude': 40.828849}\n",
      "Bus ID: MTA NYCT_9773, Location: {'Longitude': -73.978894, 'Latitude': 40.766833}\n",
      "Bus ID: MTA NYCT_9422, Location: {'Longitude': -73.978399, 'Latitude': 40.76662}\n",
      "Bus ID: MTA NYCT_9441, Location: {'Longitude': -73.981781, 'Latitude': 40.752257}\n",
      "Bus ID: MTA NYCT_9616, Location: {'Longitude': -73.980604, 'Latitude': 40.789586}\n",
      "Bus ID: MTA NYCT_9893, Location: {'Longitude': -73.98735, 'Latitude': 40.750386}\n",
      "Bus ID: MTA NYCT_9447, Location: {'Longitude': -73.95408, 'Latitude': 40.821605}\n",
      "Bus ID: MTA NYCT_9764, Location: {'Longitude': -73.953953, 'Latitude': 40.821781}\n",
      "Bus ID: MTA NYCT_9803, Location: {'Longitude': -73.985878, 'Latitude': 40.746628}\n"
     ]
    }
   ],
   "source": [
    "endpoint = \"https://bustime.mta.info/api/siri/vehicle-monitoring.json\"\n",
    "params = {\n",
    "    \"key\": api_key,\n",
    "    \"VehicleMonitoringDetailLevel\": \"calls\",\n",
    "    \"LineRef\": \"MTA NYCT_Q43\"  # Example route\n",
    "}\n",
    "\n",
    "# Make the API request\n",
    "response = requests.get(endpoint, params=params)\n",
    "data = response.json()\n",
    "\n",
    "# Extract relevant data\n",
    "vehicles = [\n",
    "    {\n",
    "        \"Bus ID\": vehicle['MonitoredVehicleJourney']['VehicleRef'],\n",
    "        \"Route\": vehicle['MonitoredVehicleJourney']['PublishedLineName'],\n",
    "        \"Latitude\": vehicle['MonitoredVehicleJourney']['VehicleLocation']['Latitude'],\n",
    "        \"Longitude\": vehicle['MonitoredVehicleJourney']['VehicleLocation']['Longitude'],\n",
    "        \"Timestamp\": vehicle['RecordedAtTime']\n",
    "    }\n",
    "    for vehicle in data['Siri']['ServiceDelivery']['VehicleMonitoringDelivery'][0]['VehicleActivity']\n",
    "]\n",
    "\n",
    "# Convert to DataFrame\n",
    "vehicles_df = pd.DataFrame(vehicles)\n",
    "\n",
    "# Save to CSV\n",
    "vehicles_df.to_csv(\"./data/eastern_queens_realtime.csv\", index=False)\n",
    "print(\"Real-time data saved to eastern_queens_realtime.csv\")"
   ]
  },
  {
   "cell_type": "code",
   "execution_count": null,
   "id": "0b2acc1c-cefe-4341-835f-fa50836efacd",
   "metadata": {},
   "outputs": [],
   "source": []
  }
 ],
 "metadata": {
  "kernelspec": {
   "display_name": "Python 3 (ipykernel)",
   "language": "python",
   "name": "python3"
  },
  "language_info": {
   "codemirror_mode": {
    "name": "ipython",
    "version": 3
   },
   "file_extension": ".py",
   "mimetype": "text/x-python",
   "name": "python",
   "nbconvert_exporter": "python",
   "pygments_lexer": "ipython3",
   "version": "3.11.1"
  }
 },
 "nbformat": 4,
 "nbformat_minor": 5
}
