{
 "cells": [
  {
   "cell_type": "code",
   "execution_count": null,
   "id": "1afd544f-48c8-4ffa-a67e-282505b29643",
   "metadata": {},
   "outputs": [],
   "source": [
    "import schedule\n",
    "\n",
    "def scheduled_collection():\n",
    "    data = collect_data_for_routes(route_ids, api_key)\n",
    "    save_data_to_csv(data)\n",
    "\n",
    "# Schedule the collection\n",
    "schedule.every(5).minutes.do(scheduled_collection)\n",
    "\n",
    "print(\"Starting real-time data collection...\")\n",
    "while True:\n",
    "    schedule.run_pending()\n",
    "    time.sleep(1)"
   ]
  }
 ],
 "metadata": {
  "kernelspec": {
   "display_name": "Python 3 (ipykernel)",
   "language": "python",
   "name": "python3"
  },
  "language_info": {
   "codemirror_mode": {
    "name": "ipython",
    "version": 3
   },
   "file_extension": ".py",
   "mimetype": "text/x-python",
   "name": "python",
   "nbconvert_exporter": "python",
   "pygments_lexer": "ipython3",
   "version": "3.11.1"
  }
 },
 "nbformat": 4,
 "nbformat_minor": 5
}
