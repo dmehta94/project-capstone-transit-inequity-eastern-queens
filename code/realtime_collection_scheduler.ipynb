{
 "cells": [
  {
   "cell_type": "code",
   "execution_count": null,
   "id": "1afd544f-48c8-4ffa-a67e-282505b29643",
   "metadata": {},
   "outputs": [],
   "source": [
    "import schedule\n",
    "import time\n",
    "from datetime import datetime\n",
    "import os\n",
    "\n",
    "def fetch_data_for_all_routes():\n",
    "    \"\"\"\n",
    "    Fetch real-time data for all routes and save it to CSV files.\n",
    "    \"\"\"\n",
    "    from realtime_data_collection import collect_data_for_routes  # Ensure the function is imported\n",
    "    api_key = os.getenv(\"MTA_API_KEY\")\n",
    "    if not api_key:\n",
    "        raise ValueError(\"API Key not found. Set MTA_API_KEY as an environment variable.\")\n",
    "    \n",
    "    # List of routes to monitor\n",
    "    route_ids = [\n",
    "        \"MTA NYCT_Q1\", \"MTA NYCT_Q2\", \"MTA NYCT_Q3\", \"MTA NYCT_Q4\",\n",
    "        \"MTA NYCT_Q5\", \"MTA NYCT_Q12\", \"MTA NYCT_Q13\", \"MTA NYCT_Q20A\",\n",
    "        \"MTA NYCT_Q20B\", \"MTA NYCT_Q27\", \"MTA NYCT_Q28\", \"MTA NYCT_Q30\",\n",
    "        \"MTA NYCT_Q31\", \"MTA NYCT_Q36\", \"MTA NYCT_Q43\", \"MTA NYCT_Q44+\",\n",
    "        \"MTA NYCT_Q46\", \"MTA NYCT_Q76\", \"MTA NYCT_Q77\", \"MTA NYCT_Q83\",\n",
    "        \"MTA NYCT_Q84\", \"MTA NYCT_Q85\", \"MTA NYCT_Q88\"\n",
    "    ]\n",
    "    \n",
    "    print(f\"Fetching data at {datetime.now()}\")\n",
    "    collect_data_for_routes(route_ids, api_key)\n",
    "    print(\"Data collection complete.\")\n",
    "\n",
    "# Schedule the task\n",
    "schedule.every(30).minutes.do(fetch_data_for_all_routes)  # Adjust interval as needed\n",
    "\n",
    "if __name__ == \"__main__\":\n",
    "    print(\"Starting data collection scheduler...\")\n",
    "    while True:\n",
    "        schedule.run_pending()\n",
    "        time.sleep(1)"
   ]
  },
  {
   "cell_type": "code",
   "execution_count": null,
   "id": "ec65db6a-60e3-4856-99ee-f2257b3282b4",
   "metadata": {},
   "outputs": [],
   "source": []
  }
 ],
 "metadata": {
  "kernelspec": {
   "display_name": "Python 3 (ipykernel)",
   "language": "python",
   "name": "python3"
  },
  "language_info": {
   "codemirror_mode": {
    "name": "ipython",
    "version": 3
   },
   "file_extension": ".py",
   "mimetype": "text/x-python",
   "name": "python",
   "nbconvert_exporter": "python",
   "pygments_lexer": "ipython3",
   "version": "3.11.1"
  }
 },
 "nbformat": 4,
 "nbformat_minor": 5
}
