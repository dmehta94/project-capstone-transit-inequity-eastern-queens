{
 "cells": [
  {
   "cell_type": "code",
   "execution_count": 1,
   "id": "b1c0531e-4604-42f6-a953-6616ec62d63f",
   "metadata": {},
   "outputs": [],
   "source": [
    "# Imports\n",
    "import numpy as np\n",
    "import pandas as pd\n",
    "import geopandas as gpd\n",
    "import matplotlib.pyplot as plt\n",
    "import seaborn as sns"
   ]
  },
  {
   "cell_type": "code",
   "execution_count": 2,
   "id": "789f8d35-fb22-456b-b9b7-b6cbd7f78c65",
   "metadata": {},
   "outputs": [
    {
     "data": {
      "text/html": [
       "<div>\n",
       "<style scoped>\n",
       "    .dataframe tbody tr th:only-of-type {\n",
       "        vertical-align: middle;\n",
       "    }\n",
       "\n",
       "    .dataframe tbody tr th {\n",
       "        vertical-align: top;\n",
       "    }\n",
       "\n",
       "    .dataframe thead th {\n",
       "        text-align: right;\n",
       "    }\n",
       "</style>\n",
       "<table border=\"1\" class=\"dataframe\">\n",
       "  <thead>\n",
       "    <tr style=\"text-align: right;\">\n",
       "      <th></th>\n",
       "      <th>Route ID</th>\n",
       "      <th>Stop ID</th>\n",
       "      <th>Stop Name</th>\n",
       "      <th>Latitude</th>\n",
       "      <th>Longitude</th>\n",
       "    </tr>\n",
       "  </thead>\n",
       "  <tbody>\n",
       "    <tr>\n",
       "      <th>0</th>\n",
       "      <td>MTA%20NYCT_Q1</td>\n",
       "      <td>MTA_500002</td>\n",
       "      <td>165 ST/HILLSIDE AV</td>\n",
       "      <td>40.709146</td>\n",
       "      <td>-73.797156</td>\n",
       "    </tr>\n",
       "    <tr>\n",
       "      <th>1</th>\n",
       "      <td>MTA%20NYCT_Q1</td>\n",
       "      <td>MTA_500004</td>\n",
       "      <td>HILLSIDE AV/171 ST</td>\n",
       "      <td>40.711440</td>\n",
       "      <td>-73.790887</td>\n",
       "    </tr>\n",
       "    <tr>\n",
       "      <th>2</th>\n",
       "      <td>MTA%20NYCT_Q1</td>\n",
       "      <td>MTA_500007</td>\n",
       "      <td>HILLSIDE AV/180 ST</td>\n",
       "      <td>40.712872</td>\n",
       "      <td>-73.782724</td>\n",
       "    </tr>\n",
       "    <tr>\n",
       "      <th>3</th>\n",
       "      <td>MTA%20NYCT_Q1</td>\n",
       "      <td>MTA_500008</td>\n",
       "      <td>HILLSIDE AV/182 PL</td>\n",
       "      <td>40.713574</td>\n",
       "      <td>-73.779850</td>\n",
       "    </tr>\n",
       "    <tr>\n",
       "      <th>4</th>\n",
       "      <td>MTA%20NYCT_Q1</td>\n",
       "      <td>MTA_500009</td>\n",
       "      <td>HILLSIDE AV/184 ST</td>\n",
       "      <td>40.714085</td>\n",
       "      <td>-73.777516</td>\n",
       "    </tr>\n",
       "  </tbody>\n",
       "</table>\n",
       "</div>"
      ],
      "text/plain": [
       "        Route ID     Stop ID           Stop Name   Latitude  Longitude\n",
       "0  MTA%20NYCT_Q1  MTA_500002  165 ST/HILLSIDE AV  40.709146 -73.797156\n",
       "1  MTA%20NYCT_Q1  MTA_500004  HILLSIDE AV/171 ST  40.711440 -73.790887\n",
       "2  MTA%20NYCT_Q1  MTA_500007  HILLSIDE AV/180 ST  40.712872 -73.782724\n",
       "3  MTA%20NYCT_Q1  MTA_500008  HILLSIDE AV/182 PL  40.713574 -73.779850\n",
       "4  MTA%20NYCT_Q1  MTA_500009  HILLSIDE AV/184 ST  40.714085 -73.777516"
      ]
     },
     "execution_count": 2,
     "metadata": {},
     "output_type": "execute_result"
    }
   ],
   "source": [
    "stops = pd.read_csv('../data/stops.csv')\n",
    "\n",
    "stops.head()"
   ]
  },
  {
   "cell_type": "code",
   "execution_count": 3,
   "id": "29e03dcd-3a3a-46c3-a865-8a4fc998a583",
   "metadata": {},
   "outputs": [
    {
     "data": {
      "text/html": [
       "<div>\n",
       "<style scoped>\n",
       "    .dataframe tbody tr th:only-of-type {\n",
       "        vertical-align: middle;\n",
       "    }\n",
       "\n",
       "    .dataframe tbody tr th {\n",
       "        vertical-align: top;\n",
       "    }\n",
       "\n",
       "    .dataframe thead th {\n",
       "        text-align: right;\n",
       "    }\n",
       "</style>\n",
       "<table border=\"1\" class=\"dataframe\">\n",
       "  <thead>\n",
       "    <tr style=\"text-align: right;\">\n",
       "      <th></th>\n",
       "      <th>route_id</th>\n",
       "      <th>stop_id</th>\n",
       "      <th>stop_name</th>\n",
       "      <th>latitude</th>\n",
       "      <th>longitude</th>\n",
       "    </tr>\n",
       "  </thead>\n",
       "  <tbody>\n",
       "    <tr>\n",
       "      <th>0</th>\n",
       "      <td>MTA%20NYCT_Q1</td>\n",
       "      <td>MTA_500002</td>\n",
       "      <td>165 ST/HILLSIDE AV</td>\n",
       "      <td>40.709146</td>\n",
       "      <td>-73.797156</td>\n",
       "    </tr>\n",
       "    <tr>\n",
       "      <th>1</th>\n",
       "      <td>MTA%20NYCT_Q1</td>\n",
       "      <td>MTA_500004</td>\n",
       "      <td>HILLSIDE AV/171 ST</td>\n",
       "      <td>40.711440</td>\n",
       "      <td>-73.790887</td>\n",
       "    </tr>\n",
       "    <tr>\n",
       "      <th>2</th>\n",
       "      <td>MTA%20NYCT_Q1</td>\n",
       "      <td>MTA_500007</td>\n",
       "      <td>HILLSIDE AV/180 ST</td>\n",
       "      <td>40.712872</td>\n",
       "      <td>-73.782724</td>\n",
       "    </tr>\n",
       "    <tr>\n",
       "      <th>3</th>\n",
       "      <td>MTA%20NYCT_Q1</td>\n",
       "      <td>MTA_500008</td>\n",
       "      <td>HILLSIDE AV/182 PL</td>\n",
       "      <td>40.713574</td>\n",
       "      <td>-73.779850</td>\n",
       "    </tr>\n",
       "    <tr>\n",
       "      <th>4</th>\n",
       "      <td>MTA%20NYCT_Q1</td>\n",
       "      <td>MTA_500009</td>\n",
       "      <td>HILLSIDE AV/184 ST</td>\n",
       "      <td>40.714085</td>\n",
       "      <td>-73.777516</td>\n",
       "    </tr>\n",
       "  </tbody>\n",
       "</table>\n",
       "</div>"
      ],
      "text/plain": [
       "        route_id     stop_id           stop_name   latitude  longitude\n",
       "0  MTA%20NYCT_Q1  MTA_500002  165 ST/HILLSIDE AV  40.709146 -73.797156\n",
       "1  MTA%20NYCT_Q1  MTA_500004  HILLSIDE AV/171 ST  40.711440 -73.790887\n",
       "2  MTA%20NYCT_Q1  MTA_500007  HILLSIDE AV/180 ST  40.712872 -73.782724\n",
       "3  MTA%20NYCT_Q1  MTA_500008  HILLSIDE AV/182 PL  40.713574 -73.779850\n",
       "4  MTA%20NYCT_Q1  MTA_500009  HILLSIDE AV/184 ST  40.714085 -73.777516"
      ]
     },
     "execution_count": 3,
     "metadata": {},
     "output_type": "execute_result"
    }
   ],
   "source": [
    "stops.columns = ['route_id', 'stop_id', 'stop_name', 'latitude', 'longitude']\n",
    "stops.head()"
   ]
  },
  {
   "cell_type": "code",
   "execution_count": 5,
   "id": "05e93e84-0b2e-4b1b-a026-6157dbc04ed4",
   "metadata": {},
   "outputs": [
    {
     "data": {
      "text/html": [
       "<div>\n",
       "<style scoped>\n",
       "    .dataframe tbody tr th:only-of-type {\n",
       "        vertical-align: middle;\n",
       "    }\n",
       "\n",
       "    .dataframe tbody tr th {\n",
       "        vertical-align: top;\n",
       "    }\n",
       "\n",
       "    .dataframe thead th {\n",
       "        text-align: right;\n",
       "    }\n",
       "</style>\n",
       "<table border=\"1\" class=\"dataframe\">\n",
       "  <thead>\n",
       "    <tr style=\"text-align: right;\">\n",
       "      <th></th>\n",
       "      <th>route_id</th>\n",
       "      <th>stop_id</th>\n",
       "      <th>stop_name</th>\n",
       "      <th>latitude</th>\n",
       "      <th>longitude</th>\n",
       "    </tr>\n",
       "  </thead>\n",
       "  <tbody>\n",
       "    <tr>\n",
       "      <th>0</th>\n",
       "      <td>MTA_NYCT_Q1</td>\n",
       "      <td>MTA_500002</td>\n",
       "      <td>165 ST/HILLSIDE AV</td>\n",
       "      <td>40.709146</td>\n",
       "      <td>-73.797156</td>\n",
       "    </tr>\n",
       "    <tr>\n",
       "      <th>1</th>\n",
       "      <td>MTA_NYCT_Q1</td>\n",
       "      <td>MTA_500004</td>\n",
       "      <td>HILLSIDE AV/171 ST</td>\n",
       "      <td>40.711440</td>\n",
       "      <td>-73.790887</td>\n",
       "    </tr>\n",
       "    <tr>\n",
       "      <th>2</th>\n",
       "      <td>MTA_NYCT_Q1</td>\n",
       "      <td>MTA_500007</td>\n",
       "      <td>HILLSIDE AV/180 ST</td>\n",
       "      <td>40.712872</td>\n",
       "      <td>-73.782724</td>\n",
       "    </tr>\n",
       "    <tr>\n",
       "      <th>3</th>\n",
       "      <td>MTA_NYCT_Q1</td>\n",
       "      <td>MTA_500008</td>\n",
       "      <td>HILLSIDE AV/182 PL</td>\n",
       "      <td>40.713574</td>\n",
       "      <td>-73.779850</td>\n",
       "    </tr>\n",
       "    <tr>\n",
       "      <th>4</th>\n",
       "      <td>MTA_NYCT_Q1</td>\n",
       "      <td>MTA_500009</td>\n",
       "      <td>HILLSIDE AV/184 ST</td>\n",
       "      <td>40.714085</td>\n",
       "      <td>-73.777516</td>\n",
       "    </tr>\n",
       "  </tbody>\n",
       "</table>\n",
       "</div>"
      ],
      "text/plain": [
       "      route_id     stop_id           stop_name   latitude  longitude\n",
       "0  MTA_NYCT_Q1  MTA_500002  165 ST/HILLSIDE AV  40.709146 -73.797156\n",
       "1  MTA_NYCT_Q1  MTA_500004  HILLSIDE AV/171 ST  40.711440 -73.790887\n",
       "2  MTA_NYCT_Q1  MTA_500007  HILLSIDE AV/180 ST  40.712872 -73.782724\n",
       "3  MTA_NYCT_Q1  MTA_500008  HILLSIDE AV/182 PL  40.713574 -73.779850\n",
       "4  MTA_NYCT_Q1  MTA_500009  HILLSIDE AV/184 ST  40.714085 -73.777516"
      ]
     },
     "execution_count": 5,
     "metadata": {},
     "output_type": "execute_result"
    }
   ],
   "source": [
    "stops['route_id'] = ['_'.join(route.split('%20')) for route in stops['route_id']]\n",
    "stops.head()"
   ]
  },
  {
   "cell_type": "code",
   "execution_count": 6,
   "id": "ac125e68-5ca9-42cb-947d-1c2626bceddc",
   "metadata": {},
   "outputs": [
    {
     "name": "stdout",
     "output_type": "stream",
     "text": [
      "<class 'pandas.core.frame.DataFrame'>\n",
      "RangeIndex: 2300 entries, 0 to 2299\n",
      "Data columns (total 5 columns):\n",
      " #   Column     Non-Null Count  Dtype  \n",
      "---  ------     --------------  -----  \n",
      " 0   route_id   2300 non-null   object \n",
      " 1   stop_id    2300 non-null   object \n",
      " 2   stop_name  2300 non-null   object \n",
      " 3   latitude   2300 non-null   float64\n",
      " 4   longitude  2300 non-null   float64\n",
      "dtypes: float64(2), object(3)\n",
      "memory usage: 90.0+ KB\n"
     ]
    }
   ],
   "source": [
    "stops.info()"
   ]
  },
  {
   "cell_type": "code",
   "execution_count": 7,
   "id": "08ef0870-9f8e-4f48-a75c-41226e87fecc",
   "metadata": {},
   "outputs": [
    {
     "data": {
      "text/html": [
       "<div>\n",
       "<style scoped>\n",
       "    .dataframe tbody tr th:only-of-type {\n",
       "        vertical-align: middle;\n",
       "    }\n",
       "\n",
       "    .dataframe tbody tr th {\n",
       "        vertical-align: top;\n",
       "    }\n",
       "\n",
       "    .dataframe thead th {\n",
       "        text-align: right;\n",
       "    }\n",
       "</style>\n",
       "<table border=\"1\" class=\"dataframe\">\n",
       "  <thead>\n",
       "    <tr style=\"text-align: right;\">\n",
       "      <th></th>\n",
       "      <th>route_id</th>\n",
       "      <th>stop_id</th>\n",
       "      <th>stop_name</th>\n",
       "      <th>latitude</th>\n",
       "      <th>longitude</th>\n",
       "      <th>geometry</th>\n",
       "    </tr>\n",
       "  </thead>\n",
       "  <tbody>\n",
       "    <tr>\n",
       "      <th>0</th>\n",
       "      <td>MTA_NYCT_Q1</td>\n",
       "      <td>MTA_500002</td>\n",
       "      <td>165 ST/HILLSIDE AV</td>\n",
       "      <td>40.709146</td>\n",
       "      <td>-73.797156</td>\n",
       "      <td>POINT (-73.79716 40.70915)</td>\n",
       "    </tr>\n",
       "    <tr>\n",
       "      <th>1</th>\n",
       "      <td>MTA_NYCT_Q1</td>\n",
       "      <td>MTA_500004</td>\n",
       "      <td>HILLSIDE AV/171 ST</td>\n",
       "      <td>40.711440</td>\n",
       "      <td>-73.790887</td>\n",
       "      <td>POINT (-73.79089 40.71144)</td>\n",
       "    </tr>\n",
       "    <tr>\n",
       "      <th>2</th>\n",
       "      <td>MTA_NYCT_Q1</td>\n",
       "      <td>MTA_500007</td>\n",
       "      <td>HILLSIDE AV/180 ST</td>\n",
       "      <td>40.712872</td>\n",
       "      <td>-73.782724</td>\n",
       "      <td>POINT (-73.78272 40.71287)</td>\n",
       "    </tr>\n",
       "    <tr>\n",
       "      <th>3</th>\n",
       "      <td>MTA_NYCT_Q1</td>\n",
       "      <td>MTA_500008</td>\n",
       "      <td>HILLSIDE AV/182 PL</td>\n",
       "      <td>40.713574</td>\n",
       "      <td>-73.779850</td>\n",
       "      <td>POINT (-73.77985 40.71357)</td>\n",
       "    </tr>\n",
       "    <tr>\n",
       "      <th>4</th>\n",
       "      <td>MTA_NYCT_Q1</td>\n",
       "      <td>MTA_500009</td>\n",
       "      <td>HILLSIDE AV/184 ST</td>\n",
       "      <td>40.714085</td>\n",
       "      <td>-73.777516</td>\n",
       "      <td>POINT (-73.77752 40.71408)</td>\n",
       "    </tr>\n",
       "  </tbody>\n",
       "</table>\n",
       "</div>"
      ],
      "text/plain": [
       "      route_id     stop_id           stop_name   latitude  longitude  \\\n",
       "0  MTA_NYCT_Q1  MTA_500002  165 ST/HILLSIDE AV  40.709146 -73.797156   \n",
       "1  MTA_NYCT_Q1  MTA_500004  HILLSIDE AV/171 ST  40.711440 -73.790887   \n",
       "2  MTA_NYCT_Q1  MTA_500007  HILLSIDE AV/180 ST  40.712872 -73.782724   \n",
       "3  MTA_NYCT_Q1  MTA_500008  HILLSIDE AV/182 PL  40.713574 -73.779850   \n",
       "4  MTA_NYCT_Q1  MTA_500009  HILLSIDE AV/184 ST  40.714085 -73.777516   \n",
       "\n",
       "                     geometry  \n",
       "0  POINT (-73.79716 40.70915)  \n",
       "1  POINT (-73.79089 40.71144)  \n",
       "2  POINT (-73.78272 40.71287)  \n",
       "3  POINT (-73.77985 40.71357)  \n",
       "4  POINT (-73.77752 40.71408)  "
      ]
     },
     "execution_count": 7,
     "metadata": {},
     "output_type": "execute_result"
    }
   ],
   "source": [
    "stops_gdf = gpd.GeoDataFrame(\n",
    "    stops, geometry = gpd.points_from_xy(stops['longitude'], stops['latitude']), crs=\"EPSG:4326\"\n",
    ")\n",
    "\n",
    "stops_gdf.head()"
   ]
  },
  {
   "cell_type": "code",
   "execution_count": 11,
   "id": "25bf8c6e-83b1-45af-bed6-4113426fce80",
   "metadata": {},
   "outputs": [
    {
     "data": {
      "text/plain": [
       "<Axes: >"
      ]
     },
     "execution_count": 11,
     "metadata": {},
     "output_type": "execute_result"
    },
    {
     "data": {
      "image/png": "[encoded data removed]",
      "text/plain": [
       "<Figure size 800x800 with 1 Axes>"
      ]
     },
     "metadata": {},
     "output_type": "display_data"
    }
   ],
   "source": [
    "fig, ax = plt.subplots(figsize = (8,8))\n",
    "stops_gdf.plot(ax = ax)"
   ]
  },
  {
   "cell_type": "code",
   "execution_count": null,
   "id": "9e4d850e-849a-416f-92f5-999fbdc4c770",
   "metadata": {},
   "outputs": [],
   "source": []
  }
 ],
 "metadata": {
  "kernelspec": {
   "display_name": "Python 3 (ipykernel)",
   "language": "python",
   "name": "python3"
  },
  "language_info": {
   "codemirror_mode": {
    "name": "ipython",
    "version": 3
   },
   "file_extension": ".py",
   "mimetype": "text/x-python",
   "name": "python",
   "nbconvert_exporter": "python",
   "pygments_lexer": "ipython3",
   "version": "3.11.1"
  }
 },
 "nbformat": 4,
 "nbformat_minor": 5
}
